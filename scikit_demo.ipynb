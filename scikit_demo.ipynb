{
  "nbformat": 4,
  "nbformat_minor": 0,
  "metadata": {
    "colab": {
      "name": "scikit-demo.ipynb",
      "provenance": [],
      "mount_file_id": "1_KeM3Dl8CdIvGmpbvTD7R8UDq1fmJVjW",
      "authorship_tag": "ABX9TyMLnKldsd5BO4QxQReyvr2s",
      "include_colab_link": true
    },
    "kernelspec": {
      "name": "python3",
      "display_name": "Python 3"
    },
    "language_info": {
      "name": "python"
    }
  },
  "cells": [
    {
      "cell_type": "markdown",
      "metadata": {
        "id": "view-in-github",
        "colab_type": "text"
      },
      "source": [
        "<a href=\"https://colab.research.google.com/github/campsight/python-ai-demo/blob/main/scikit_demo.ipynb\" target=\"_parent\"><img src=\"https://colab.research.google.com/assets/colab-badge.svg\" alt=\"Open In Colab\"/></a>"
      ]
    },
    {
      "cell_type": "markdown",
      "source": [
        "# Introduction and demo of sci-kit learn (sklearn)\n",
        "\n",
        "What it covers:\n",
        "\n",
        "An end-to-end sklearn workflow\n",
        "1. Getting the data ready\n",
        "2. Choosing the right estimator (algorithm/model)\n",
        "3. Fit the estimator and use it to make predictions on our data\n",
        "4. Evaluate the estimator\n",
        "5. Improve the estimator\n",
        "6. Save and load a trained estimator"
      ],
      "metadata": {
        "id": "8Yhvb1Tr4YhJ"
      }
    },
    {
      "cell_type": "markdown",
      "source": [
        "## An end-to-end sklearn worflow"
      ],
      "metadata": {
        "id": "zLW9r1q65Sp8"
      }
    },
    {
      "cell_type": "code",
      "execution_count": 6,
      "metadata": {
        "id": "uaTEiqVnrcqY"
      },
      "outputs": [],
      "source": [
        "# 1. Getting the data ready\n",
        "import pandas as pd\n",
        "heart_disease = pd.read_csv(\"/content/drive/MyDrive/scikit_data/heart-disease.csv\")\n"
      ]
    }
  ]
}